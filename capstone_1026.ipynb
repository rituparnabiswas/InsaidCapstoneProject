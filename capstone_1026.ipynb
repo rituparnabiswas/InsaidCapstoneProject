{
 "cells": [
  {
   "cell_type": "code",
   "execution_count": 1,
   "metadata": {},
   "outputs": [],
   "source": [
    "import numpy as np\n",
    "import pandas as pd\n",
    "\n",
    "import matplotlib.pyplot as plt\n",
    "%matplotlib inline\n",
    "\n",
    "\n",
    "import seaborn as sns"
   ]
  },
  {
   "cell_type": "code",
   "execution_count": 2,
   "metadata": {},
   "outputs": [],
   "source": [
    "import mysql.connector as mysql_conn\n",
    "from mysql.connector import Error"
   ]
  },
  {
   "cell_type": "code",
   "execution_count": 3,
   "metadata": {},
   "outputs": [],
   "source": [
    "MYSQL_USER = MYSQL_PWD = \"student\"\n",
    "MYSQL_HOST = \"cpanel.insaid.co\"\n",
    "MYSQL_DB = \"Capstone1\""
   ]
  },
  {
   "cell_type": "code",
   "execution_count": 5,
   "metadata": {},
   "outputs": [
    {
     "name": "stdout",
     "output_type": "stream",
     "text": [
      "Collecting mysql-connector-python\n",
      "  Downloading https://files.pythonhosted.org/packages/b6/f6/78a05be0987bd531dec8064288f4eef1148fe784c364dd3b37cccf400c02/mysql_connector_python-8.0.19-cp37-cp37m-win_amd64.whl (4.3MB)\n",
      "Collecting protobuf==3.6.1 (from mysql-connector-python)\n",
      "  Using cached https://files.pythonhosted.org/packages/77/78/a7f1ce761e2c738e209857175cd4f90a8562d1bde32868a8cd5290d58926/protobuf-3.6.1-py2.py3-none-any.whl\n",
      "Collecting dnspython==1.16.0 (from mysql-connector-python)\n",
      "  Using cached https://files.pythonhosted.org/packages/ec/d3/3aa0e7213ef72b8585747aa0e271a9523e713813b9a20177ebe1e939deb0/dnspython-1.16.0-py2.py3-none-any.whl\n",
      "Requirement already satisfied: setuptools in c:\\programdata\\anaconda3\\lib\\site-packages (from protobuf==3.6.1->mysql-connector-python) (41.4.0)\n",
      "Requirement already satisfied: six>=1.9 in c:\\programdata\\anaconda3\\lib\\site-packages (from protobuf==3.6.1->mysql-connector-python) (1.12.0)\n",
      "Installing collected packages: protobuf, dnspython, mysql-connector-python\n",
      "Successfully installed dnspython-1.16.0 mysql-connector-python-8.0.19 protobuf-3.6.1\n",
      "Note: you may need to restart the kernel to use updated packages.\n"
     ]
    }
   ],
   "source": [
    "pip install mysql-connector-python"
   ]
  },
  {
   "cell_type": "code",
   "execution_count": 6,
   "metadata": {},
   "outputs": [],
   "source": [
    "import mysql.connector\n",
    "from mysql.connector import Error"
   ]
  },
  {
   "cell_type": "markdown",
   "metadata": {},
   "source": [
    "Loading gender_age_train and phone_brand_device_model data"
   ]
  },
  {
   "cell_type": "code",
   "execution_count": 41,
   "metadata": {},
   "outputs": [
    {
     "name": "stdout",
     "output_type": "stream",
     "text": [
      "Connected to MySQL Server version  5.6.46-cll-lve\n",
      "MySQL connection is closed\n"
     ]
    }
   ],
   "source": [
    "gender_age_train=pd.DataFrame()\n",
    "phone_brand_device_model=pd.DataFrame()\n",
    "\n",
    "try:\n",
    "    connection = mysql.connector.connect(host=MYSQL_HOST, database=MYSQL_DB,user=MYSQL_USER,password=MYSQL_PWD)\n",
    "    if connection.is_connected():\n",
    "        db_Info = connection.get_server_info()\n",
    "        print(\"Connected to MySQL Server version \", db_Info)\n",
    "        gender_age_train=pd.read_sql(\"select * from gender_age_train\", connection)\n",
    "        phone_brand_device_model=pd.read_sql(\"select * from phone_brand_device_model\", connection)\n",
    "except Error as e:\n",
    "    print(\"Error while connecting to MySQL\", e)\n",
    "finally:\n",
    "    if (connection.is_connected()):\n",
    "        print(\"MySQL connection is closed\")"
   ]
  },
  {
   "cell_type": "code",
   "execution_count": 42,
   "metadata": {},
   "outputs": [
    {
     "data": {
      "text/html": [
       "<div>\n",
       "<style scoped>\n",
       "    .dataframe tbody tr th:only-of-type {\n",
       "        vertical-align: middle;\n",
       "    }\n",
       "\n",
       "    .dataframe tbody tr th {\n",
       "        vertical-align: top;\n",
       "    }\n",
       "\n",
       "    .dataframe thead th {\n",
       "        text-align: right;\n",
       "    }\n",
       "</style>\n",
       "<table border=\"1\" class=\"dataframe\">\n",
       "  <thead>\n",
       "    <tr style=\"text-align: right;\">\n",
       "      <th></th>\n",
       "      <th>device_id</th>\n",
       "      <th>gender</th>\n",
       "      <th>age</th>\n",
       "      <th>group</th>\n",
       "    </tr>\n",
       "  </thead>\n",
       "  <tbody>\n",
       "    <tr>\n",
       "      <td>0</td>\n",
       "      <td>-8076087639492063270</td>\n",
       "      <td>M</td>\n",
       "      <td>35</td>\n",
       "      <td>M32-38</td>\n",
       "    </tr>\n",
       "    <tr>\n",
       "      <td>1</td>\n",
       "      <td>-2897161552818060146</td>\n",
       "      <td>M</td>\n",
       "      <td>35</td>\n",
       "      <td>M32-38</td>\n",
       "    </tr>\n",
       "    <tr>\n",
       "      <td>2</td>\n",
       "      <td>-8260683887967679142</td>\n",
       "      <td>M</td>\n",
       "      <td>35</td>\n",
       "      <td>M32-38</td>\n",
       "    </tr>\n",
       "    <tr>\n",
       "      <td>3</td>\n",
       "      <td>-4938849341048082022</td>\n",
       "      <td>M</td>\n",
       "      <td>30</td>\n",
       "      <td>M29-31</td>\n",
       "    </tr>\n",
       "    <tr>\n",
       "      <td>4</td>\n",
       "      <td>245133531816851882</td>\n",
       "      <td>M</td>\n",
       "      <td>30</td>\n",
       "      <td>M29-31</td>\n",
       "    </tr>\n",
       "    <tr>\n",
       "      <td>...</td>\n",
       "      <td>...</td>\n",
       "      <td>...</td>\n",
       "      <td>...</td>\n",
       "      <td>...</td>\n",
       "    </tr>\n",
       "    <tr>\n",
       "      <td>74640</td>\n",
       "      <td>4682031842235089751</td>\n",
       "      <td>M</td>\n",
       "      <td>30</td>\n",
       "      <td>M29-31</td>\n",
       "    </tr>\n",
       "    <tr>\n",
       "      <td>74641</td>\n",
       "      <td>-9178703742877135986</td>\n",
       "      <td>M</td>\n",
       "      <td>30</td>\n",
       "      <td>M29-31</td>\n",
       "    </tr>\n",
       "    <tr>\n",
       "      <td>74642</td>\n",
       "      <td>180946546684162312</td>\n",
       "      <td>M</td>\n",
       "      <td>20</td>\n",
       "      <td>M22-</td>\n",
       "    </tr>\n",
       "    <tr>\n",
       "      <td>74643</td>\n",
       "      <td>1390702386071991851</td>\n",
       "      <td>M</td>\n",
       "      <td>37</td>\n",
       "      <td>M32-38</td>\n",
       "    </tr>\n",
       "    <tr>\n",
       "      <td>74644</td>\n",
       "      <td>89181010588227347</td>\n",
       "      <td>M</td>\n",
       "      <td>25</td>\n",
       "      <td>M23-26</td>\n",
       "    </tr>\n",
       "  </tbody>\n",
       "</table>\n",
       "<p>74645 rows × 4 columns</p>\n",
       "</div>"
      ],
      "text/plain": [
       "                 device_id gender  age   group\n",
       "0     -8076087639492063270      M   35  M32-38\n",
       "1     -2897161552818060146      M   35  M32-38\n",
       "2     -8260683887967679142      M   35  M32-38\n",
       "3     -4938849341048082022      M   30  M29-31\n",
       "4       245133531816851882      M   30  M29-31\n",
       "...                    ...    ...  ...     ...\n",
       "74640  4682031842235089751      M   30  M29-31\n",
       "74641 -9178703742877135986      M   30  M29-31\n",
       "74642   180946546684162312      M   20    M22-\n",
       "74643  1390702386071991851      M   37  M32-38\n",
       "74644    89181010588227347      M   25  M23-26\n",
       "\n",
       "[74645 rows x 4 columns]"
      ]
     },
     "execution_count": 42,
     "metadata": {},
     "output_type": "execute_result"
    }
   ],
   "source": [
    "gender_age_train"
   ]
  },
  {
   "cell_type": "code",
   "execution_count": 49,
   "metadata": {},
   "outputs": [
    {
     "data": {
      "text/plain": [
       " 2257159551899998892    1\n",
       "-5859103589956090399    1\n",
       "-1824840104697287357    1\n",
       " 4676982795249941605    1\n",
       "-4498445842577775035    1\n",
       "                       ..\n",
       " 1973456509863984167    1\n",
       "-6615755711424206170    1\n",
       " 7038954467068358105    1\n",
       " 452720611336482113     1\n",
       " 8954493586702958652    1\n",
       "Name: device_id, Length: 74645, dtype: int64"
      ]
     },
     "execution_count": 49,
     "metadata": {},
     "output_type": "execute_result"
    }
   ],
   "source": [
    "gender_age_train['device_id'].value_counts()"
   ]
  },
  {
   "cell_type": "code",
   "execution_count": 21,
   "metadata": {},
   "outputs": [
    {
     "data": {
      "text/plain": [
       "96"
      ]
     },
     "execution_count": 21,
     "metadata": {},
     "output_type": "execute_result"
    }
   ],
   "source": [
    "max(gender_age_train.age)"
   ]
  },
  {
   "cell_type": "code",
   "execution_count": 23,
   "metadata": {},
   "outputs": [
    {
     "data": {
      "text/plain": [
       "1"
      ]
     },
     "execution_count": 23,
     "metadata": {},
     "output_type": "execute_result"
    }
   ],
   "source": [
    "min(gender_age_train.age)"
   ]
  },
  {
   "cell_type": "code",
   "execution_count": 24,
   "metadata": {},
   "outputs": [
    {
     "name": "stdout",
     "output_type": "stream",
     "text": [
      "                device_id gender  age group\n",
      "5958 -7047596037344697961      F   96  F43+\n"
     ]
    }
   ],
   "source": [
    "print(gender_age_train[gender_age_train.age == gender_age_train.age.max()]) "
   ]
  },
  {
   "cell_type": "code",
   "execution_count": 25,
   "metadata": {},
   "outputs": [
    {
     "name": "stdout",
     "output_type": "stream",
     "text": [
      "                 device_id gender  age group\n",
      "10385  3553057874282315257      M    1  M22-\n"
     ]
    }
   ],
   "source": [
    "print(gender_age_train[gender_age_train.age == gender_age_train.age.min()]) "
   ]
  },
  {
   "cell_type": "code",
   "execution_count": 27,
   "metadata": {},
   "outputs": [
    {
     "data": {
      "text/plain": [
       "array(['M', 'F'], dtype=object)"
      ]
     },
     "execution_count": 27,
     "metadata": {},
     "output_type": "execute_result"
    }
   ],
   "source": [
    "gender_age_train.gender.unique()"
   ]
  },
  {
   "cell_type": "code",
   "execution_count": 33,
   "metadata": {},
   "outputs": [
    {
     "data": {
      "text/plain": [
       "M    47904\n",
       "F    26741\n",
       "Name: gender, dtype: int64"
      ]
     },
     "execution_count": 33,
     "metadata": {},
     "output_type": "execute_result"
    }
   ],
   "source": [
    "gender_age_train['gender'].value_counts()"
   ]
  },
  {
   "cell_type": "code",
   "execution_count": 43,
   "metadata": {},
   "outputs": [
    {
     "data": {
      "text/html": [
       "<div>\n",
       "<style scoped>\n",
       "    .dataframe tbody tr th:only-of-type {\n",
       "        vertical-align: middle;\n",
       "    }\n",
       "\n",
       "    .dataframe tbody tr th {\n",
       "        vertical-align: top;\n",
       "    }\n",
       "\n",
       "    .dataframe thead th {\n",
       "        text-align: right;\n",
       "    }\n",
       "</style>\n",
       "<table border=\"1\" class=\"dataframe\">\n",
       "  <thead>\n",
       "    <tr style=\"text-align: right;\">\n",
       "      <th></th>\n",
       "      <th>device_id</th>\n",
       "      <th>phone_brand</th>\n",
       "      <th>device_model</th>\n",
       "    </tr>\n",
       "  </thead>\n",
       "  <tbody>\n",
       "    <tr>\n",
       "      <td>0</td>\n",
       "      <td>1877775838486905855</td>\n",
       "      <td>vivo</td>\n",
       "      <td>Y13</td>\n",
       "    </tr>\n",
       "    <tr>\n",
       "      <td>1</td>\n",
       "      <td>-3766087376657242966</td>\n",
       "      <td>小米</td>\n",
       "      <td>V183</td>\n",
       "    </tr>\n",
       "    <tr>\n",
       "      <td>2</td>\n",
       "      <td>-6238937574958215831</td>\n",
       "      <td>OPPO</td>\n",
       "      <td>R7s</td>\n",
       "    </tr>\n",
       "    <tr>\n",
       "      <td>3</td>\n",
       "      <td>8973197758510677470</td>\n",
       "      <td>三星</td>\n",
       "      <td>A368t</td>\n",
       "    </tr>\n",
       "    <tr>\n",
       "      <td>4</td>\n",
       "      <td>-2015528097870762664</td>\n",
       "      <td>小米</td>\n",
       "      <td>红米Note2</td>\n",
       "    </tr>\n",
       "    <tr>\n",
       "      <td>...</td>\n",
       "      <td>...</td>\n",
       "      <td>...</td>\n",
       "      <td>...</td>\n",
       "    </tr>\n",
       "    <tr>\n",
       "      <td>87721</td>\n",
       "      <td>-4961458925928574032</td>\n",
       "      <td>华为</td>\n",
       "      <td>荣耀畅玩4X</td>\n",
       "    </tr>\n",
       "    <tr>\n",
       "      <td>87722</td>\n",
       "      <td>-8819817317449262375</td>\n",
       "      <td>华为</td>\n",
       "      <td>荣耀6</td>\n",
       "    </tr>\n",
       "    <tr>\n",
       "      <td>87723</td>\n",
       "      <td>-3358291377416935026</td>\n",
       "      <td>华为</td>\n",
       "      <td>荣耀畅玩4</td>\n",
       "    </tr>\n",
       "    <tr>\n",
       "      <td>87724</td>\n",
       "      <td>3282788959750981633</td>\n",
       "      <td>小米</td>\n",
       "      <td>MI 2</td>\n",
       "    </tr>\n",
       "    <tr>\n",
       "      <td>87725</td>\n",
       "      <td>2491639413207286271</td>\n",
       "      <td>酷比</td>\n",
       "      <td>M1</td>\n",
       "    </tr>\n",
       "  </tbody>\n",
       "</table>\n",
       "<p>87726 rows × 3 columns</p>\n",
       "</div>"
      ],
      "text/plain": [
       "                 device_id phone_brand device_model\n",
       "0      1877775838486905855        vivo          Y13\n",
       "1     -3766087376657242966          小米         V183\n",
       "2     -6238937574958215831        OPPO          R7s\n",
       "3      8973197758510677470          三星        A368t\n",
       "4     -2015528097870762664          小米      红米Note2\n",
       "...                    ...         ...          ...\n",
       "87721 -4961458925928574032          华为       荣耀畅玩4X\n",
       "87722 -8819817317449262375          华为          荣耀6\n",
       "87723 -3358291377416935026          华为        荣耀畅玩4\n",
       "87724  3282788959750981633          小米         MI 2\n",
       "87725  2491639413207286271          酷比           M1\n",
       "\n",
       "[87726 rows x 3 columns]"
      ]
     },
     "execution_count": 43,
     "metadata": {},
     "output_type": "execute_result"
    }
   ],
   "source": [
    "phone_brand_device_model"
   ]
  },
  {
   "cell_type": "code",
   "execution_count": 34,
   "metadata": {},
   "outputs": [
    {
     "data": {
      "text/plain": [
       "小米      21645\n",
       "三星      19211\n",
       "华为      15181\n",
       "vivo     7596\n",
       "OPPO     6717\n",
       "        ...  \n",
       "瑞高          1\n",
       "凯利通         1\n",
       "西门子         1\n",
       "E人E本        1\n",
       "MIL         1\n",
       "Name: phone_brand, Length: 116, dtype: int64"
      ]
     },
     "execution_count": 34,
     "metadata": {},
     "output_type": "execute_result"
    }
   ],
   "source": [
    "phone_brand_device_model['phone_brand'].value_counts()\n"
   ]
  },
  {
   "cell_type": "code",
   "execution_count": 35,
   "metadata": {},
   "outputs": [
    {
     "data": {
      "text/plain": [
       "红米note              3500\n",
       "MI 3                2739\n",
       "MI 2S               2547\n",
       "Galaxy Note 3       2378\n",
       "MI 4                2256\n",
       "                    ... \n",
       "E622M                  1\n",
       "Galaxy Grand Max       1\n",
       "G620-L72               1\n",
       "T860                   1\n",
       "7061                   1\n",
       "Name: device_model, Length: 1467, dtype: int64"
      ]
     },
     "execution_count": 35,
     "metadata": {},
     "output_type": "execute_result"
    }
   ],
   "source": [
    "phone_brand_device_model['device_model'].value_counts()"
   ]
  },
  {
   "cell_type": "code",
   "execution_count": 48,
   "metadata": {},
   "outputs": [
    {
     "data": {
      "text/plain": [
       " 4297421574931963628    1\n",
       "-6683447465042266790    1\n",
       "-2025398450464681486    1\n",
       "-2104282943635898244    1\n",
       "-1079794670707116889    1\n",
       "                       ..\n",
       "-8243778303410121446    1\n",
       " 4963348570238922413    1\n",
       " 2156147271872893762    1\n",
       "-3354736606620104853    1\n",
       " 8954493586702958652    1\n",
       "Name: device_id, Length: 87726, dtype: int64"
      ]
     },
     "execution_count": 48,
     "metadata": {},
     "output_type": "execute_result"
    }
   ],
   "source": [
    "phone_brand_device_model['device_id'].value_counts()"
   ]
  },
  {
   "cell_type": "code",
   "execution_count": 44,
   "metadata": {},
   "outputs": [],
   "source": [
    "phone_brand_device_model_new = phone_brand_device_model.groupby('device_model')['device_id'].nunique()"
   ]
  },
  {
   "cell_type": "code",
   "execution_count": 45,
   "metadata": {},
   "outputs": [
    {
     "data": {
      "text/plain": [
       "device_model\n",
       "1100           9\n",
       "1105          51\n",
       "1107         137\n",
       "2             28\n",
       "201           17\n",
       "            ... \n",
       "麦芒4          201\n",
       "黄金斗士A8       150\n",
       "黄金斗士Note8     33\n",
       "黄金斗士S8畅玩版      6\n",
       "黄金斗士青春版        5\n",
       "Name: device_id, Length: 1467, dtype: int64"
      ]
     },
     "execution_count": 45,
     "metadata": {},
     "output_type": "execute_result"
    }
   ],
   "source": [
    "phone_brand_device_model_new"
   ]
  },
  {
   "cell_type": "markdown",
   "metadata": {},
   "source": [
    "Loading events_data"
   ]
  },
  {
   "cell_type": "code",
   "execution_count": 16,
   "metadata": {},
   "outputs": [],
   "source": [
    "\n",
    "import sys                                                                      # Import packages\n",
    "import pandas as pd\n",
    "import seaborn as sns\n",
    "import numpy as np\n",
    "import matplotlib.pyplot as plt\n",
    "from matplotlib.pyplot import pie, axis, show\n",
    "%matplotlib inline                                                              \n",
    "\n",
    "import warnings                                                                 # Ignore warning related to pandas_profiling\n",
    "warnings.filterwarnings('ignore') \n",
    "\n",
    "pd.set_option('display.max_columns', 100)                                       # Display all dataframe columns in outputs ()\n",
    "                                                                                # This sets it up to dispaly with a horizontal scroll instead of hiding the middle columns\n",
    "#uploaded locally\n",
    "events_data = pd.read_csv(\"events_data.csv\")  # Load in the dataset as mh"
   ]
  },
  {
   "cell_type": "code",
   "execution_count": 17,
   "metadata": {},
   "outputs": [
    {
     "data": {
      "text/html": [
       "<div>\n",
       "<style scoped>\n",
       "    .dataframe tbody tr th:only-of-type {\n",
       "        vertical-align: middle;\n",
       "    }\n",
       "\n",
       "    .dataframe tbody tr th {\n",
       "        vertical-align: top;\n",
       "    }\n",
       "\n",
       "    .dataframe thead th {\n",
       "        text-align: right;\n",
       "    }\n",
       "</style>\n",
       "<table border=\"1\" class=\"dataframe\">\n",
       "  <thead>\n",
       "    <tr style=\"text-align: right;\">\n",
       "      <th></th>\n",
       "      <th>event_id</th>\n",
       "      <th>device_id</th>\n",
       "      <th>timestamp</th>\n",
       "      <th>longitude</th>\n",
       "      <th>latitude</th>\n",
       "      <th>city</th>\n",
       "      <th>state</th>\n",
       "    </tr>\n",
       "  </thead>\n",
       "  <tbody>\n",
       "    <tr>\n",
       "      <td>0</td>\n",
       "      <td>1.0</td>\n",
       "      <td>2.918269e+16</td>\n",
       "      <td>2016-05-01 00:55:25</td>\n",
       "      <td>77.266049</td>\n",
       "      <td>28.681610</td>\n",
       "      <td>Delhi</td>\n",
       "      <td>Delhi</td>\n",
       "    </tr>\n",
       "    <tr>\n",
       "      <td>1</td>\n",
       "      <td>7104.0</td>\n",
       "      <td>2.918269e+16</td>\n",
       "      <td>2016-05-02 09:37:02</td>\n",
       "      <td>77.266049</td>\n",
       "      <td>28.681610</td>\n",
       "      <td>Delhi</td>\n",
       "      <td>Delhi</td>\n",
       "    </tr>\n",
       "    <tr>\n",
       "      <td>2</td>\n",
       "      <td>29661.0</td>\n",
       "      <td>2.918269e+16</td>\n",
       "      <td>2016-05-04 00:56:04</td>\n",
       "      <td>77.266049</td>\n",
       "      <td>28.681610</td>\n",
       "      <td>Delhi</td>\n",
       "      <td>Delhi</td>\n",
       "    </tr>\n",
       "    <tr>\n",
       "      <td>3</td>\n",
       "      <td>33133.0</td>\n",
       "      <td>2.918269e+16</td>\n",
       "      <td>2016-05-06 05:01:15</td>\n",
       "      <td>77.266049</td>\n",
       "      <td>28.681610</td>\n",
       "      <td>Delhi</td>\n",
       "      <td>Delhi</td>\n",
       "    </tr>\n",
       "    <tr>\n",
       "      <td>4</td>\n",
       "      <td>38980.0</td>\n",
       "      <td>2.918269e+16</td>\n",
       "      <td>2016-05-06 09:55:04</td>\n",
       "      <td>77.266049</td>\n",
       "      <td>28.681610</td>\n",
       "      <td>Delhi</td>\n",
       "      <td>Delhi</td>\n",
       "    </tr>\n",
       "    <tr>\n",
       "      <td>...</td>\n",
       "      <td>...</td>\n",
       "      <td>...</td>\n",
       "      <td>...</td>\n",
       "      <td>...</td>\n",
       "      <td>...</td>\n",
       "      <td>...</td>\n",
       "      <td>...</td>\n",
       "    </tr>\n",
       "    <tr>\n",
       "      <td>3252945</td>\n",
       "      <td>3241600.0</td>\n",
       "      <td>6.057196e+18</td>\n",
       "      <td>2016-05-04 17:51:29</td>\n",
       "      <td>76.437031</td>\n",
       "      <td>14.328436</td>\n",
       "      <td>Chitradurga</td>\n",
       "      <td>Karnataka</td>\n",
       "    </tr>\n",
       "    <tr>\n",
       "      <td>3252946</td>\n",
       "      <td>3241929.0</td>\n",
       "      <td>8.855298e+18</td>\n",
       "      <td>2016-05-05 17:05:08</td>\n",
       "      <td>88.131884</td>\n",
       "      <td>24.551253</td>\n",
       "      <td>Jangipur</td>\n",
       "      <td>WestBengal</td>\n",
       "    </tr>\n",
       "    <tr>\n",
       "      <td>3252947</td>\n",
       "      <td>3242387.0</td>\n",
       "      <td>1.734091e+18</td>\n",
       "      <td>2016-05-07 17:17:27</td>\n",
       "      <td>86.538832</td>\n",
       "      <td>25.542353</td>\n",
       "      <td>Khagaria</td>\n",
       "      <td>Bihar</td>\n",
       "    </tr>\n",
       "    <tr>\n",
       "      <td>3252948</td>\n",
       "      <td>3248517.0</td>\n",
       "      <td>7.886185e+18</td>\n",
       "      <td>2016-05-04 21:35:09</td>\n",
       "      <td>88.428472</td>\n",
       "      <td>22.731814</td>\n",
       "      <td>Bally</td>\n",
       "      <td>WestBengal</td>\n",
       "    </tr>\n",
       "    <tr>\n",
       "      <td>3252949</td>\n",
       "      <td>3251669.0</td>\n",
       "      <td>-8.448990e+18</td>\n",
       "      <td>2016-05-02 23:34:42</td>\n",
       "      <td>72.140981</td>\n",
       "      <td>21.862590</td>\n",
       "      <td>Bhavnagar</td>\n",
       "      <td>Gujarat</td>\n",
       "    </tr>\n",
       "  </tbody>\n",
       "</table>\n",
       "<p>3252950 rows × 7 columns</p>\n",
       "</div>"
      ],
      "text/plain": [
       "          event_id     device_id            timestamp  longitude   latitude  \\\n",
       "0              1.0  2.918269e+16  2016-05-01 00:55:25  77.266049  28.681610   \n",
       "1           7104.0  2.918269e+16  2016-05-02 09:37:02  77.266049  28.681610   \n",
       "2          29661.0  2.918269e+16  2016-05-04 00:56:04  77.266049  28.681610   \n",
       "3          33133.0  2.918269e+16  2016-05-06 05:01:15  77.266049  28.681610   \n",
       "4          38980.0  2.918269e+16  2016-05-06 09:55:04  77.266049  28.681610   \n",
       "...            ...           ...                  ...        ...        ...   \n",
       "3252945  3241600.0  6.057196e+18  2016-05-04 17:51:29  76.437031  14.328436   \n",
       "3252946  3241929.0  8.855298e+18  2016-05-05 17:05:08  88.131884  24.551253   \n",
       "3252947  3242387.0  1.734091e+18  2016-05-07 17:17:27  86.538832  25.542353   \n",
       "3252948  3248517.0  7.886185e+18  2016-05-04 21:35:09  88.428472  22.731814   \n",
       "3252949  3251669.0 -8.448990e+18  2016-05-02 23:34:42  72.140981  21.862590   \n",
       "\n",
       "                city       state  \n",
       "0              Delhi       Delhi  \n",
       "1              Delhi       Delhi  \n",
       "2              Delhi       Delhi  \n",
       "3              Delhi       Delhi  \n",
       "4              Delhi       Delhi  \n",
       "...              ...         ...  \n",
       "3252945  Chitradurga   Karnataka  \n",
       "3252946     Jangipur  WestBengal  \n",
       "3252947     Khagaria       Bihar  \n",
       "3252948        Bally  WestBengal  \n",
       "3252949    Bhavnagar     Gujarat  \n",
       "\n",
       "[3252950 rows x 7 columns]"
      ]
     },
     "execution_count": 17,
     "metadata": {},
     "output_type": "execute_result"
    }
   ],
   "source": [
    "events_data"
   ]
  },
  {
   "cell_type": "code",
   "execution_count": null,
   "metadata": {},
   "outputs": [],
   "source": [
    "events_data"
   ]
  },
  {
   "cell_type": "markdown",
   "metadata": {},
   "source": [
    "Checking missing values in gender_age_train"
   ]
  },
  {
   "cell_type": "code",
   "execution_count": 18,
   "metadata": {},
   "outputs": [
    {
     "name": "stdout",
     "output_type": "stream",
     "text": [
      "           Total  Percent\n",
      "group          0      0.0\n",
      "age            0      0.0\n",
      "gender         0      0.0\n",
      "device_id      0      0.0\n"
     ]
    }
   ],
   "source": [
    "total = gender_age_train.isnull().sum().sort_values(ascending=False)\n",
    "percent = (gender_age_train.isnull().sum()/gender_age_train.isnull().count()).sort_values(ascending=False)\n",
    "missing_data = pd.concat([total, percent], axis=1, keys=['Total', 'Percent'])\n",
    "print(missing_data)"
   ]
  },
  {
   "cell_type": "markdown",
   "metadata": {},
   "source": [
    "So there is no missing values for gender_age_train"
   ]
  },
  {
   "cell_type": "markdown",
   "metadata": {},
   "source": [
    "Checking missing values in phone_brand_device_model"
   ]
  },
  {
   "cell_type": "code",
   "execution_count": 19,
   "metadata": {},
   "outputs": [
    {
     "name": "stdout",
     "output_type": "stream",
     "text": [
      "              Total  Percent\n",
      "device_model      0      0.0\n",
      "phone_brand       0      0.0\n",
      "device_id         0      0.0\n"
     ]
    }
   ],
   "source": [
    "total = phone_brand_device_model.isnull().sum().sort_values(ascending=False)\n",
    "percent = (phone_brand_device_model.isnull().sum()/phone_brand_device_model.isnull().count()).sort_values(ascending=False)\n",
    "missing_data = pd.concat([total, percent], axis=1, keys=['Total', 'Percent'])\n",
    "print(missing_data)"
   ]
  },
  {
   "cell_type": "markdown",
   "metadata": {},
   "source": [
    "There is no missing values for phone_brand_device_model"
   ]
  },
  {
   "cell_type": "markdown",
   "metadata": {},
   "source": [
    "Checking missing values in events_data"
   ]
  },
  {
   "cell_type": "code",
   "execution_count": 20,
   "metadata": {},
   "outputs": [
    {
     "name": "stdout",
     "output_type": "stream",
     "text": [
      "           Total   Percent\n",
      "device_id    453  0.000139\n",
      "latitude     423  0.000130\n",
      "longitude    423  0.000130\n",
      "state        377  0.000116\n",
      "city           0  0.000000\n",
      "timestamp      0  0.000000\n",
      "event_id       0  0.000000\n"
     ]
    }
   ],
   "source": [
    "total = events_data.isnull().sum().sort_values(ascending=False)\n",
    "percent = (events_data.isnull().sum()/events_data.isnull().count()).sort_values(ascending=False)\n",
    "missing_data = pd.concat([total, percent], axis=1, keys=['Total', 'Percent'])\n",
    "print(missing_data)"
   ]
  },
  {
   "cell_type": "markdown",
   "metadata": {},
   "source": [
    "Some missing values are there for device_id,latitude,longitude and state. Although the percentage is almost negligible."
   ]
  }
 ],
 "metadata": {
  "kernelspec": {
   "display_name": "Python 3",
   "language": "python",
   "name": "python3"
  },
  "language_info": {
   "codemirror_mode": {
    "name": "ipython",
    "version": 3
   },
   "file_extension": ".py",
   "mimetype": "text/x-python",
   "name": "python",
   "nbconvert_exporter": "python",
   "pygments_lexer": "ipython3",
   "version": "3.7.4"
  }
 },
 "nbformat": 4,
 "nbformat_minor": 2
}
